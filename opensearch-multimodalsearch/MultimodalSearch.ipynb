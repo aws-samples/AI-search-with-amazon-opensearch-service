{
 "cells": [
  {
   "cell_type": "markdown",
   "id": "59189659",
   "metadata": {},
   "source": [
    "# Hybrid Search with Amazon OpenSearch Service"
   ]
  },
  {
   "cell_type": "markdown",
   "id": "954e8f9b",
   "metadata": {},
   "source": [
    "**Welcome to Hybrid search notebook. Use this notebook to build a Hybrid Search application powered by Amazon OpenSearch Service**\n",
    "\n",
    "In this notebook, you will perform the following steps in sequence,\n",
    "\n",
    "The lab includes the following steps:\n",
    "1. [Step 1: Get the Cloudformation outputs](#Step-1:-Get-the-Cloudformation-outputs)\n",
    "2. [Step 2: Create the OpenSearch-Sagemaker ML connector](#Step-2:-Create-the-OpenSearch-Sagemaker-ML-connector)\n",
    "3. [Step 3: Register and deploy the embedding model in OpenSearch](#Step-3:-Register-and-deploy-the-embedding-model-in-OpenSearch)\n",
    "4. [Step 4: Create the OpenSearch ingest pipeline with text-embedding processor](#TODO-Step-4:-Create-the-OpenSearch-ingest-pipeline-with-text-embedding-processor)\n",
    "5. [Step 5: Create the k-NN index](#Step-5:-Create-the-k-NN-index)\n",
    "6. [Step 6: Prepare the image dataset](#Step-6:-Prepare-the-image-dataset)\n",
    "7. [Step 7: Ingest the prepared data into OpenSearch](#Step-7:-Ingest-the-prepared-data-into-OpenSearch)\n",
    "8. [Step 8: Update the environment variables of lambda](#Step-8:-Update-the-environment-variables-of-lambda)\n",
    "9. [Step 9: Create the Lambda URL](#Step-9:-Create-the-Lambda-URL)\n",
    "10. [Step 10: Host the Hybrid Search application in EC2](#Step-7:-Host-the-Hybrid-Search-application-in-EC2)"
   ]
  },
  {
   "cell_type": "code",
   "execution_count": 157,
   "id": "94978bb7",
   "metadata": {},
   "outputs": [
    {
     "name": "stdout",
     "output_type": "stream",
     "text": [
      "Requirement already satisfied: requests_aws4auth in /home/ec2-user/anaconda3/envs/pytorch_p310/lib/python3.10/site-packages (1.2.3)\n",
      "Requirement already satisfied: requests in /home/ec2-user/anaconda3/envs/pytorch_p310/lib/python3.10/site-packages (from requests_aws4auth) (2.31.0)\n",
      "Requirement already satisfied: six in /home/ec2-user/anaconda3/envs/pytorch_p310/lib/python3.10/site-packages (from requests_aws4auth) (1.16.0)\n",
      "Requirement already satisfied: charset-normalizer<4,>=2 in /home/ec2-user/anaconda3/envs/pytorch_p310/lib/python3.10/site-packages (from requests->requests_aws4auth) (3.3.1)\n",
      "Requirement already satisfied: idna<4,>=2.5 in /home/ec2-user/anaconda3/envs/pytorch_p310/lib/python3.10/site-packages (from requests->requests_aws4auth) (3.4)\n",
      "Requirement already satisfied: urllib3<3,>=1.21.1 in /home/ec2-user/anaconda3/envs/pytorch_p310/lib/python3.10/site-packages (from requests->requests_aws4auth) (1.26.18)\n",
      "Requirement already satisfied: certifi>=2017.4.17 in /home/ec2-user/anaconda3/envs/pytorch_p310/lib/python3.10/site-packages (from requests->requests_aws4auth) (2023.7.22)\n",
      "Note: you may need to restart the kernel to use updated packages.\n",
      "Requirement already satisfied: opensearch_py in /home/ec2-user/anaconda3/envs/pytorch_p310/lib/python3.10/site-packages (2.4.2)\n",
      "Requirement already satisfied: urllib3>=1.26.18 in /home/ec2-user/anaconda3/envs/pytorch_p310/lib/python3.10/site-packages (from opensearch_py) (1.26.18)\n",
      "Requirement already satisfied: requests<3.0.0,>=2.4.0 in /home/ec2-user/anaconda3/envs/pytorch_p310/lib/python3.10/site-packages (from opensearch_py) (2.31.0)\n",
      "Requirement already satisfied: six in /home/ec2-user/anaconda3/envs/pytorch_p310/lib/python3.10/site-packages (from opensearch_py) (1.16.0)\n",
      "Requirement already satisfied: python-dateutil in /home/ec2-user/anaconda3/envs/pytorch_p310/lib/python3.10/site-packages (from opensearch_py) (2.8.2)\n",
      "Requirement already satisfied: certifi>=2022.12.07 in /home/ec2-user/anaconda3/envs/pytorch_p310/lib/python3.10/site-packages (from opensearch_py) (2023.7.22)\n",
      "Requirement already satisfied: charset-normalizer<4,>=2 in /home/ec2-user/anaconda3/envs/pytorch_p310/lib/python3.10/site-packages (from requests<3.0.0,>=2.4.0->opensearch_py) (3.3.1)\n",
      "Requirement already satisfied: idna<4,>=2.5 in /home/ec2-user/anaconda3/envs/pytorch_p310/lib/python3.10/site-packages (from requests<3.0.0,>=2.4.0->opensearch_py) (3.4)\n",
      "Note: you may need to restart the kernel to use updated packages.\n",
      "Collecting alive-progress\n",
      "  Downloading alive_progress-3.1.5-py3-none-any.whl.metadata (68 kB)\n",
      "\u001b[2K     \u001b[90m━━━━━━━━━━━━━━━━━━━━━━━━━━━━━━━━━━━━━━━━\u001b[0m \u001b[32m68.4/68.4 kB\u001b[0m \u001b[31m9.0 MB/s\u001b[0m eta \u001b[36m0:00:00\u001b[0m\n",
      "\u001b[?25hCollecting about-time==4.2.1 (from alive-progress)\n",
      "  Downloading about_time-4.2.1-py3-none-any.whl (13 kB)\n",
      "Collecting grapheme==0.6.0 (from alive-progress)\n",
      "  Downloading grapheme-0.6.0.tar.gz (207 kB)\n",
      "\u001b[2K     \u001b[90m━━━━━━━━━━━━━━━━━━━━━━━━━━━━━━━━━━━━━━\u001b[0m \u001b[32m207.3/207.3 kB\u001b[0m \u001b[31m24.0 MB/s\u001b[0m eta \u001b[36m0:00:00\u001b[0m\n",
      "\u001b[?25h  Preparing metadata (setup.py) ... \u001b[?25ldone\n",
      "\u001b[?25hDownloading alive_progress-3.1.5-py3-none-any.whl (75 kB)\n",
      "\u001b[2K   \u001b[90m━━━━━━━━━━━━━━━━━━━━━━━━━━━━━━━━━━━━━━━━\u001b[0m \u001b[32m76.0/76.0 kB\u001b[0m \u001b[31m14.5 MB/s\u001b[0m eta \u001b[36m0:00:00\u001b[0m\n",
      "\u001b[?25hBuilding wheels for collected packages: grapheme\n",
      "  Building wheel for grapheme (setup.py) ... \u001b[?25ldone\n",
      "\u001b[?25h  Created wheel for grapheme: filename=grapheme-0.6.0-py3-none-any.whl size=210079 sha256=1ad0e14a81a3a9de70422c3880066bee6fe4ce75a41d24896e517945405dd684\n",
      "  Stored in directory: /home/ec2-user/.cache/pip/wheels/01/e1/49/37e6bde9886439057450c494a79b0bef8bbe897a54aebfc757\n",
      "Successfully built grapheme\n",
      "Installing collected packages: grapheme, about-time, alive-progress\n",
      "Successfully installed about-time-4.2.1 alive-progress-3.1.5 grapheme-0.6.0\n",
      "Note: you may need to restart the kernel to use updated packages.\n"
     ]
    }
   ],
   "source": [
    "#Install dependencies\n",
    "#Implement header-based authentication and request authentication for AWS services that support AWS auth v4\n",
    "%pip install requests_aws4auth\n",
    "#OpenSearch Python SDK\n",
    "%pip install opensearch_py\n",
    "#Progress bar for for loop\n",
    "%pip install alive-progress"
   ]
  },
  {
   "cell_type": "markdown",
   "id": "1beb0cb0",
   "metadata": {},
   "source": [
    "## Step 1: Get the Cloudformation outputs\n",
    "\n",
    "Here, we retrieve the services that are already deployed as a part of the cloudformation template to be used in building the application. The services include,\n",
    "1. **Sagemaker Endpoint**\n",
    "2. **OpenSearch Domain** Endpoint\n",
    "3. **S3** Bucket name\n",
    "4. **Lambda** Function name "
   ]
  },
  {
   "cell_type": "code",
   "execution_count": 305,
   "id": "71b45f09",
   "metadata": {},
   "outputs": [
    {
     "name": "stdout",
     "output_type": "stream",
     "text": [
      "stackname: hybridsearch-opensearch-app\n",
      "account_id: 445083327804\n",
      "region: us-east-1\n",
      "SagemakerEmbeddingEndpoint: opensearch-hybrid-search-embedding-gpt-j-6b-b182bc90\n",
      "OpenSearchDomainEndpoint: search-opensearchservi-75ucark0bqob-bzk6r6h2t33dlnpgx2pdeg22gi.us-east-1.es.amazonaws.com\n",
      "S3 Bucket: hybridsearch-opensearch-app-s3buckethosting-b7nfsjknlc83\n",
      "lambda Function : OpenSearchHybridSearch\n"
     ]
    }
   ],
   "source": [
    "import sagemaker, boto3, json, time\n",
    "from sagemaker.session import Session\n",
    "import subprocess\n",
    "from IPython.utils import io\n",
    "\n",
    "cfn = boto3.client('cloudformation')\n",
    "\n",
    "response = cfn.list_stacks(StackStatusFilter=['CREATE_COMPLETE','UPDATE_COMPLETE'])\n",
    "\n",
    "for cfns in response['StackSummaries']:\n",
    "    if('TemplateDescription' in cfns.keys()):\n",
    "        if('hybrid search' in cfns['TemplateDescription']):\n",
    "            stackname = cfns['StackName']\n",
    "stackname\n",
    "\n",
    "response = cfn.describe_stack_resources(\n",
    "    StackName=stackname\n",
    ")\n",
    "# for resource in response['StackResources']:\n",
    "#     if(resource['ResourceType'] == \"AWS::SageMaker::Endpoint\"):\n",
    "#         SagemakerEmbeddingEndpoint = resource['PhysicalResourceId']\n",
    "\n",
    "cfn_outputs = cfn.describe_stacks(StackName=stackname)['Stacks'][0]['Outputs']\n",
    "\n",
    "for output in cfn_outputs:\n",
    "    if('OpenSearchDomainEndpoint' in output['OutputKey']):\n",
    "        OpenSearchDomainEndpoint = output['OutputValue']\n",
    "        \n",
    "    if('EmbeddingEndpointName' in output['OutputKey']):\n",
    "        SagemakerEmbeddingEndpoint = output['OutputValue']\n",
    "        \n",
    "    if('s3' in output['OutputKey'].lower()):\n",
    "        s3_bucket = output['OutputValue']\n",
    "        \n",
    "    if('lambdafunction' in output['OutputKey'].lower()):\n",
    "        lambdaFunction = output['OutputValue']\n",
    "\n",
    "region = boto3.Session().region_name  \n",
    "        \n",
    "\n",
    "account_id = boto3.client('sts').get_caller_identity().get('Account')\n",
    "\n",
    "\n",
    "\n",
    "print(\"stackname: \"+stackname)\n",
    "print(\"account_id: \"+account_id)  \n",
    "print(\"region: \"+region)\n",
    "print(\"SagemakerEmbeddingEndpoint: \"+SagemakerEmbeddingEndpoint)\n",
    "print(\"OpenSearchDomainEndpoint: \"+OpenSearchDomainEndpoint)\n",
    "print(\"S3 Bucket: \"+s3_bucket)\n",
    "print(\"lambda Function : \"+lambdaFunction)"
   ]
  },
  {
   "cell_type": "markdown",
   "id": "8c006009",
   "metadata": {},
   "source": [
    "## Step 2: Create the OpenSearch-Sagemaker ML connector "
   ]
  },
  {
   "cell_type": "markdown",
   "id": "9d252adc",
   "metadata": {},
   "source": [
    "Amazon OpenSearch Service AI connectors allows you to create a connector from OpenSearch Service to SageMaker Runtime.\n",
    "To create a connector, we use the Amazon OpenSearch Domain endpoint, SagemakerEndpoint that hosts the GPT-J-6B embedding model and an IAM role that grants OpenSearch Service access to invoke the sagemaker model (this role is already created as a part of the cloudformation template)\n",
    "\n",
    "Here, Using the connector_id obtained from the previous step, we register and deploy the model in OpenSearch and get a model identifier (model_id)"
   ]
  },
  {
   "cell_type": "code",
   "execution_count": 306,
   "id": "fbb0395c",
   "metadata": {},
   "outputs": [],
   "source": [
    "import boto3\n",
    "import requests \n",
    "from requests_aws4auth import AWS4Auth\n",
    "import json\n",
    "\n",
    "host = 'https://'+OpenSearchDomainEndpoint+'/'\n",
    "service = 'es'\n",
    "credentials = boto3.Session().get_credentials()\n",
    "awsauth = AWS4Auth(credentials.access_key, credentials.secret_key, region, service, session_token=credentials.token)\n",
    "\n",
    "\n",
    "remote_ml = {\n",
    "                \"sagemaker\":\n",
    "                 {\n",
    "                     \"endpoint_url\":\"https://runtime.sagemaker.\"+region+\".amazonaws.com/endpoints/\"+SagemakerEmbeddingEndpoint+\"/invocations\",\n",
    "                     \"pre_process_fun\": '\\n    StringBuilder builder = new StringBuilder();\\n    builder.append(\"\\\\\"\");\\n    builder.append(params.text_docs[0]);\\n    builder.append(\"\\\\\"\");\\n    def parameters = \"{\" +\"\\\\\"inputs\\\\\":\" + builder + \"}\";\\n    return \"{\" +\"\\\\\"parameters\\\\\":\" + parameters + \"}\";\\n    ', \n",
    "                    \"post_process_fun\": '\\n    def name = \"sentence_embedding\";\\n    def dataType = \"FLOAT32\";\\n    if (params.embedding == null || params.embedding.length == 0) {\\n        return null;\\n    }\\n    def shape = [params.embedding[0].length];\\n    def json = \"{\" +\\n               \"\\\\\"name\\\\\":\\\\\"\" + name + \"\\\\\",\" +\\n               \"\\\\\"data_type\\\\\":\\\\\"\" + dataType + \"\\\\\",\" +\\n               \"\\\\\"shape\\\\\":\" + shape + \",\" +\\n               \"\\\\\"data\\\\\":\" + params.embedding[0] +\\n               \"}\";\\n    return json;\\n    ',\n",
    "                    \"request_body\": \"{ \\\"text_inputs\\\": \\\"${parameters.inputs}\\\"}\"\n",
    "             \n",
    "                 },\n",
    "                \n",
    "                 \"bedrock_text\":\n",
    "                {\n",
    "                     \"endpoint_url\":\"https://bedrock-runtime.\"+region+\".amazonaws.com/model/amazon.titan-embed-text-v1/invoke\",\n",
    "                    \"pre_process_fun\": \"\\n    StringBuilder builder = new StringBuilder();\\n    builder.append(\\\"\\\\\\\"\\\");\\n    String first = params.text_docs[0];\\n    builder.append(first);\\n    builder.append(\\\"\\\\\\\"\\\");\\n    def parameters = \\\"{\\\" +\\\"\\\\\\\"inputText\\\\\\\":\\\" + builder + \\\"}\\\";\\n    return  \\\"{\\\" +\\\"\\\\\\\"parameters\\\\\\\":\\\" + parameters + \\\"}\\\";\",\n",
    "      \n",
    "                    \"post_process_fun\":'\\n    def name = \"sentence_embedding\";\\n    def dataType = \"FLOAT32\";\\n    if (params.embedding == null || params.embedding.length == 0) {\\n        return null;\\n    }\\n    def shape = [params.embedding.length];\\n    def json = \"{\" +\\n               \"\\\\\"name\\\\\":\\\\\"\" + name + \"\\\\\",\" +\\n               \"\\\\\"data_type\\\\\":\\\\\"\" + dataType + \"\\\\\",\" +\\n               \"\\\\\"shape\\\\\":\" + shape + \",\" +\\n               \"\\\\\"data\\\\\":\" + params.embedding +\\n               \"}\";\\n    return json;\\n    ',\n",
    "                    \"request_body\": \"{ \\\"inputText\\\": \\\"${parameters.inputText}\\\"}\"\n",
    "                 },\n",
    "                \n",
    "                 \"bedrock_multimodal\":\n",
    "                {\n",
    "                     \"endpoint_url\": \"https://bedrock-runtime.\"+region+\".amazonaws.com/model/amazon.titan-embed-image-v1/invoke\",\n",
    "                     \"request_body\": \"{ \\\"inputText\\\": \\\"${parameters.inputText:-null}\\\", \\\"inputImage\\\": \\\"${parameters.inputImage:-null}\\\" }\",\n",
    "                      \"pre_process_fun\": \"\\n    StringBuilder parametersBuilder = new StringBuilder(\\\"{\\\");\\n    if (params.text_docs.length > 0 && params.text_docs[0] != null) {\\n      parametersBuilder.append(\\\"\\\\\\\"inputText\\\\\\\":\\\");\\n      parametersBuilder.append(\\\"\\\\\\\"\\\");\\n      parametersBuilder.append(params.text_docs[0]);\\n      parametersBuilder.append(\\\"\\\\\\\"\\\");\\n      \\n      if (params.text_docs.length > 1 && params.text_docs[1] != null) {\\n        parametersBuilder.append(\\\",\\\");\\n      }\\n    }\\n    \\n    \\n    if (params.text_docs.length > 1 && params.text_docs[1] != null) {\\n      parametersBuilder.append(\\\"\\\\\\\"inputImage\\\\\\\":\\\");\\n      parametersBuilder.append(\\\"\\\\\\\"\\\");\\n      parametersBuilder.append(params.text_docs[1]);\\n      parametersBuilder.append(\\\"\\\\\\\"\\\");\\n    }\\n    parametersBuilder.append(\\\"}\\\");\\n    \\n    return  \\\"{\\\" +\\\"\\\\\\\"parameters\\\\\\\":\\\" + parametersBuilder + \\\"}\\\";\",\n",
    "                     \"post_process_fun\":'\\n    def name = \"sentence_embedding\";\\n    def dataType = \"FLOAT32\";\\n    if (params.embedding == null || params.embedding.length == 0) {\\n        return null;\\n    }\\n    def shape = [params.embedding.length];\\n    def json = \"{\" +\\n               \"\\\\\"name\\\\\":\\\\\"\" + name + \"\\\\\",\" +\\n               \"\\\\\"data_type\\\\\":\\\\\"\" + dataType + \"\\\\\",\" +\\n               \"\\\\\"shape\\\\\":\" + shape + \",\" +\\n               \"\\\\\"data\\\\\":\" + params.embedding +\\n               \"}\";\\n    return json;\\n    '\n",
    "                    }\n",
    "            }\n",
    "\n"
   ]
  },
  {
   "cell_type": "code",
   "execution_count": 286,
   "id": "7d82a8a2",
   "metadata": {},
   "outputs": [
    {
     "name": "stdout",
     "output_type": "stream",
     "text": [
      "Deployment status of the sagemaker model, dUuIS4wBuQkLO8mDIYXp : COMPLETED\n",
      "sagemaker : [-0.0018504525069147348, -0.001708334544673562, 0.011649771593511105, -0.01878291927278042]\n",
      "[4096]\n",
      "\n",
      "\n",
      "Deployment status of the bedrock_text model, eUuIS4wBuQkLO8mDMoXw : COMPLETED\n",
      "bedrock_text : [0.5390625, -0.46679688, -0.125, 0.45703125]\n",
      "[1536]\n",
      "\n",
      "\n",
      "Deployment status of the bedrock_multimodal model, fUuIS4wBuQkLO8mDQ4Xx : COMPLETED\n",
      "bedrock_multimodal : [-0.028092243, 0.031673167, -0.003421167, -0.047097858]\n",
      "[1024]\n",
      "\n",
      "\n"
     ]
    }
   ],
   "source": [
    "connector_path_url = host+'_plugins/_ml/connectors/_create'\n",
    "register_model_path_url = host+'_plugins/_ml/models/_register'\n",
    "\n",
    "\n",
    "headers = {\"Content-Type\": \"application/json\"}\n",
    "\n",
    "for remote_ml_key in remote_ml.keys():\n",
    "    \n",
    "    #create connector\n",
    "    payload_1 = {\n",
    "       \"name\": remote_ml_key+\": embedding\",\n",
    "       \"description\": \"Test connector for\"+remote_ml_key+\" remote embedding model\",\n",
    "       \"version\": 1,\n",
    "       \"protocol\": \"aws_sigv4\",\n",
    "       \"credential\": {\n",
    "          \"roleArn\": \"arn:aws:iam::\"+account_id+\":role/opensearch-sagemaker-role\"\n",
    "       },\n",
    "       \"parameters\": {\n",
    "          \"region\": region,\n",
    "          \"service_name\": remote_ml_key.split(\"_\")[0]\n",
    "       },\n",
    "       \"actions\": [\n",
    "          {\n",
    "             \"action_type\": \"predict\",\n",
    "             \"method\": \"POST\",\n",
    "             \"headers\": {\n",
    "                \"content-type\": \"application/json\"\n",
    "             },\n",
    "             \"url\": remote_ml[remote_ml_key][\"endpoint_url\"],\n",
    "              \"pre_process_function\": remote_ml[remote_ml_key][\"pre_process_fun\"],\n",
    "              \"request_body\": remote_ml[remote_ml_key][\"request_body\"],\n",
    "             \"post_process_function\": remote_ml[remote_ml_key][\"post_process_fun\"]\n",
    "          }\n",
    "       ]\n",
    "    }\n",
    "    \n",
    "\n",
    "    r_1 = requests.post(connector_path_url, auth=awsauth, json=payload_1, headers=headers)\n",
    "    remote_ml[remote_ml_key][\"connector_id\"] = json.loads(r_1.text)[\"connector_id\"]\n",
    "    \n",
    "    time.sleep(2)\n",
    "    \n",
    "    #register model\n",
    "    \n",
    "    payload_2 = { \n",
    "                \"name\": remote_ml_key,\n",
    "                \"function_name\":\"remote\",\n",
    "                \"description\": remote_ml_key+\" embeddings model\",\n",
    "                \"connector_id\": remote_ml[remote_ml_key][\"connector_id\"]\n",
    "                \n",
    "                }\n",
    "\n",
    "    r_2 = requests.post(register_model_path_url, auth=awsauth, json=payload_2, headers=headers)\n",
    "    remote_ml[remote_ml_key][\"model_id\"] = json.loads(r_2.text)[\"model_id\"]\n",
    "    \n",
    "    time.sleep(2)\n",
    "    \n",
    "    #deploy model\n",
    "    \n",
    "    deploy_model_path_url = host+'_plugins/_ml/models/'+remote_ml[remote_ml_key][\"model_id\"]+'/_deploy'\n",
    "\n",
    "    r_3 = requests.post(deploy_model_path_url, auth=awsauth, headers=headers)\n",
    "    deploy_status = json.loads(r_3.text)[\"status\"]\n",
    "    print(\"Deployment status of the \"+remote_ml_key+\" model, \"+remote_ml[remote_ml_key][\"model_id\"]+\" : \"+deploy_status)\n",
    "    \n",
    "    \n",
    "    #test model\n",
    "    payload_4 = {\n",
    "                  \"parameters\": {\n",
    "                    \"inputText\": \"hello\",\n",
    "                      \"inputImage\":'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'\n",
    "                      }\n",
    "                        }\n",
    "    \n",
    "    if(remote_ml_key == 'sagemaker'):\n",
    "        payload_4 = {\n",
    "      \"parameters\": {\n",
    "        \"inputs\": \"hello\"\n",
    "          }\n",
    "            }\n",
    "\n",
    "    path_4 = host+'_plugins/_ml/models/'+remote_ml[remote_ml_key][\"model_id\"]+'/_predict'\n",
    "    r_4 = requests.post(path_4, auth=awsauth, json=payload_4, headers=headers)\n",
    "    embed = json.loads(r_4.text)['inference_results'][0]['output'][0]['data'][0:4]\n",
    "    shape = json.loads(r_4.text)['inference_results'][0]['output'][0]['shape']\n",
    "    remote_ml[remote_ml_key]['dimensions'] = shape[0]\n",
    "    print(remote_ml_key+ \" : \"+str(embed))\n",
    "    print(shape)\n",
    "    print(\"\\n\")"
   ]
  },
  {
   "cell_type": "markdown",
   "id": "26c4fa35",
   "metadata": {},
   "source": [
    "## Step 4: Create the OpenSearch ingest pipeline with text-embedding processor"
   ]
  },
  {
   "cell_type": "markdown",
   "id": "9fd49613",
   "metadata": {},
   "source": [
    "In the ingestion pipeline, you choose \"text_embedding\" processor to generate vector embeddings from \"caption\" field and store vector data in \"caption_embedding\" field of type knn_vector."
   ]
  },
  {
   "cell_type": "code",
   "execution_count": 287,
   "id": "eef0ab48",
   "metadata": {},
   "outputs": [
    {
     "name": "stdout",
     "output_type": "stream",
     "text": [
      "200\n",
      "{\"acknowledged\":true}\n",
      "dUuIS4wBuQkLO8mDIYXp\n",
      "sagemaker\n",
      "200\n",
      "{\"acknowledged\":true}\n",
      "eUuIS4wBuQkLO8mDMoXw\n",
      "bedrock_text\n"
     ]
    }
   ],
   "source": [
    "for remote_ml_key in remote_ml.keys():\n",
    "    if(\"multimodal\" not in remote_ml_key):\n",
    "        path = \"_ingest/pipeline/\"+remote_ml_key+\"-ingest-pipeline\"\n",
    "        url = host + path\n",
    "        payload = {\n",
    "      \"description\": remote_ml_key+\" ingest pipeline\",\n",
    "      \"processors\": [\n",
    "                        {\n",
    "                          \"text_embedding\": {\n",
    "                            \"model_id\": remote_ml[remote_ml_key][\"model_id\"],\n",
    "                            \"field_map\": {\n",
    "                              \"caption\": \"caption_embedding\"\n",
    "                            }\n",
    "                          }\n",
    "                        }\n",
    "                      ]\n",
    "                    }\n",
    "\n",
    "        r = requests.put(url, auth=awsauth, json=payload, headers=headers)\n",
    "        print(r.status_code)\n",
    "        print(r.text)\n",
    "        print(remote_ml[remote_ml_key][\"model_id\"])\n",
    "        print(remote_ml_key)"
   ]
  },
  {
   "cell_type": "code",
   "execution_count": 290,
   "id": "40babeca",
   "metadata": {},
   "outputs": [
    {
     "name": "stdout",
     "output_type": "stream",
     "text": [
      "200\n",
      "{\"acknowledged\":true}\n"
     ]
    }
   ],
   "source": [
    "path = \"_ingest/pipeline/bedrock-multimodal-ingest-pipeline\"\n",
    "url = host + path\n",
    "payload = {\n",
    "  \"description\": \"A text/image embedding pipeline\",\n",
    "  \"processors\": [\n",
    "    {\n",
    "      \"text_image_embedding\": {\n",
    "        \"model_id\": remote_ml['bedrock_multimodal']['model_id'],\n",
    "        \"embedding\": \"vector_embedding\",\n",
    "        \"field_map\": {\n",
    "          \"text\": \"image_description\",\n",
    "          \"image\": \"image_binary\"\n",
    "        }\n",
    "      }\n",
    "    }\n",
    "  ]\n",
    "}\n",
    "\n",
    "r = requests.put(url, auth=awsauth, json=payload, headers=headers)\n",
    "print(r.status_code)\n",
    "print(r.text)\n",
    "\n"
   ]
  },
  {
   "cell_type": "markdown",
   "id": "0e204695",
   "metadata": {},
   "source": [
    "## Step 5: Create the k-NN index"
   ]
  },
  {
   "cell_type": "markdown",
   "id": "c9f21a9f",
   "metadata": {},
   "source": [
    "Create the K-NN index and set the pipeline created in the previous step \"nlp-ingest-pipeline\" as the default pipeline. The caption_embedding field must be mapped as a k-NN vector with 4096 dimensions matching the model dimension. \n",
    "\n",
    "For the kNN index we use **nmslib** engine with **hnsw** algorithm and **l2** spacetype"
   ]
  },
  {
   "cell_type": "code",
   "execution_count": 288,
   "id": "368d0c31",
   "metadata": {},
   "outputs": [
    {
     "name": "stdout",
     "output_type": "stream",
     "text": [
      "200\n",
      "{\"acknowledged\":true,\"shards_acknowledged\":true,\"index\":\"sagemaker-search-index\"}\n",
      "200\n",
      "{\"acknowledged\":true,\"shards_acknowledged\":true,\"index\":\"bedrock_text-search-index\"}\n"
     ]
    }
   ],
   "source": [
    "for remote_ml_key in remote_ml.keys():\n",
    "    if(\"multimodal\" not in remote_ml_key):\n",
    "        path = remote_ml_key+\"-search-index\"  \n",
    "        url = host + path\n",
    "        payload = {\n",
    "          \"settings\": {\n",
    "            \"index.knn\": True,\n",
    "            \"default_pipeline\": remote_ml_key+\"-ingest-pipeline\",\n",
    "            \"number_of_shards\": \"4\",\n",
    "            \"number_of_replicas\": \"0\"\n",
    "          },\n",
    "          \"mappings\": {\n",
    "            \"properties\": {\n",
    "              \"image_s3_url\": {\n",
    "                \"type\": \"text\"\n",
    "              },\n",
    "              \"caption_embedding\": {\n",
    "                \"type\": \"knn_vector\",\n",
    "                \"dimension\": remote_ml[remote_ml_key]['dimensions'],\n",
    "                \"method\": {\n",
    "                  \"engine\": \"nmslib\",\n",
    "                  \"space_type\": \"l2\",\n",
    "                  \"name\": \"hnsw\",\n",
    "                  \"parameters\": {}\n",
    "                }\n",
    "              },\n",
    "              \"caption\": {\n",
    "                \"type\": \"text\"\n",
    "              }\n",
    "            }\n",
    "          }\n",
    "        }\n",
    "        r = requests.put(url, auth=awsauth, json=payload, headers=headers)\n",
    "        print(r.status_code)\n",
    "        print(r.text)"
   ]
  },
  {
   "cell_type": "code",
   "execution_count": 291,
   "id": "91cb36eb",
   "metadata": {},
   "outputs": [
    {
     "name": "stdout",
     "output_type": "stream",
     "text": [
      "200\n",
      "{\"acknowledged\":true,\"shards_acknowledged\":true,\"index\":\"bedrock-multimodal-search-index\"}\n"
     ]
    }
   ],
   "source": [
    "path = \"bedrock-multimodal-search-index\"\n",
    "url = host + path\n",
    "payload = {\n",
    "  \"settings\": {\n",
    "    \"index.knn\": True,\n",
    "    \"default_pipeline\": \"bedrock-multimodal-ingest-pipeline\",\n",
    "    \"number_of_shards\": 4,\n",
    "    \"number_of_replicas\": \"0\"\n",
    "  },\n",
    "  \"mappings\": {\n",
    "    \"properties\": {\n",
    "      \"vector_embedding\": {\n",
    "        \"type\": \"knn_vector\",\n",
    "        \"dimension\": 1024,\n",
    "        \"method\": {\n",
    "          \"name\": \"hnsw\",\n",
    "          \"engine\": \"lucene\",\n",
    "          \"parameters\": {}\n",
    "        }\n",
    "      },\n",
    "      \"image_description\": {\n",
    "        \"type\": \"text\"\n",
    "      },\n",
    "        \"image_s3_url\": {\n",
    "        \"type\": \"text\"\n",
    "      },\n",
    "      \"image_binary\": {\n",
    "        \"type\": \"binary\"\n",
    "      }\n",
    "    }\n",
    "  }\n",
    "}\n",
    "r = requests.put(url, auth=awsauth, json=payload, headers=headers)\n",
    "print(r.status_code)\n",
    "print(r.text)"
   ]
  },
  {
   "cell_type": "markdown",
   "id": "3269d744",
   "metadata": {},
   "source": [
    "## Step 6: Prepare the dataset"
   ]
  },
  {
   "cell_type": "markdown",
   "id": "e9815d45",
   "metadata": {},
   "source": [
    "Download the Amazon Bekerley dataset from S3 and pre-process in such a way that you get the image properties in a dataframe\n",
    "\n",
    "For simplicity we use only 1655 sample images from the dataset"
   ]
  },
  {
   "cell_type": "code",
   "execution_count": 265,
   "id": "a8ed48ba",
   "metadata": {},
   "outputs": [
    {
     "name": "stdout",
     "output_type": "stream",
     "text": [
      "#products with US English title: 26424\n"
     ]
    },
    {
     "data": {
      "text/html": [
       "<div>\n",
       "<style scoped>\n",
       "    .dataframe tbody tr th:only-of-type {\n",
       "        vertical-align: middle;\n",
       "    }\n",
       "\n",
       "    .dataframe tbody tr th {\n",
       "        vertical-align: top;\n",
       "    }\n",
       "\n",
       "    .dataframe thead th {\n",
       "        text-align: right;\n",
       "    }\n",
       "</style>\n",
       "<table border=\"1\" class=\"dataframe\">\n",
       "  <thead>\n",
       "    <tr style=\"text-align: right;\">\n",
       "      <th></th>\n",
       "      <th>item_id</th>\n",
       "      <th>item_name_in_en_us</th>\n",
       "      <th>main_image_id</th>\n",
       "      <th>image_id</th>\n",
       "      <th>height</th>\n",
       "      <th>width</th>\n",
       "      <th>path</th>\n",
       "    </tr>\n",
       "  </thead>\n",
       "  <tbody>\n",
       "    <tr>\n",
       "      <th>0</th>\n",
       "      <td>B0896LJNLH</td>\n",
       "      <td>AmazonBasics Serene 16-Piece Old Fashioned and...</td>\n",
       "      <td>61izEZdhlaL</td>\n",
       "      <td>61izEZdhlaL</td>\n",
       "      <td>1197</td>\n",
       "      <td>894</td>\n",
       "      <td>07/075e5d67.jpg</td>\n",
       "    </tr>\n",
       "    <tr>\n",
       "      <th>1</th>\n",
       "      <td>B07HCR1LSQ</td>\n",
       "      <td>[Find] Amazon Collection Platinum Plated Sterl...</td>\n",
       "      <td>61kDp2x8tPL</td>\n",
       "      <td>61kDp2x8tPL</td>\n",
       "      <td>1000</td>\n",
       "      <td>1000</td>\n",
       "      <td>c9/c923418f.jpg</td>\n",
       "    </tr>\n",
       "    <tr>\n",
       "      <th>2</th>\n",
       "      <td>B075DQBBJZ</td>\n",
       "      <td>Arizona Desert Sand Horizon Photo with Wood Ha...</td>\n",
       "      <td>91IjyKZ76qL</td>\n",
       "      <td>91IjyKZ76qL</td>\n",
       "      <td>2560</td>\n",
       "      <td>2560</td>\n",
       "      <td>c6/c6889ed4.jpg</td>\n",
       "    </tr>\n",
       "    <tr>\n",
       "      <th>3</th>\n",
       "      <td>B073P6DSBQ</td>\n",
       "      <td>Amazon Brand – Rivet Arizona Desert Sand Horiz...</td>\n",
       "      <td>91IjyKZ76qL</td>\n",
       "      <td>91IjyKZ76qL</td>\n",
       "      <td>2560</td>\n",
       "      <td>2560</td>\n",
       "      <td>c6/c6889ed4.jpg</td>\n",
       "    </tr>\n",
       "    <tr>\n",
       "      <th>4</th>\n",
       "      <td>B07S74D9T7</td>\n",
       "      <td>AmazonBasics Adjustable Speaker Stand - 3.8 to...</td>\n",
       "      <td>71x4c-BafpL</td>\n",
       "      <td>71x4c-BafpL</td>\n",
       "      <td>2560</td>\n",
       "      <td>2560</td>\n",
       "      <td>2b/2b90e918.jpg</td>\n",
       "    </tr>\n",
       "  </tbody>\n",
       "</table>\n",
       "</div>"
      ],
      "text/plain": [
       "      item_id                                 item_name_in_en_us  \\\n",
       "0  B0896LJNLH  AmazonBasics Serene 16-Piece Old Fashioned and...   \n",
       "1  B07HCR1LSQ  [Find] Amazon Collection Platinum Plated Sterl...   \n",
       "2  B075DQBBJZ  Arizona Desert Sand Horizon Photo with Wood Ha...   \n",
       "3  B073P6DSBQ  Amazon Brand – Rivet Arizona Desert Sand Horiz...   \n",
       "4  B07S74D9T7  AmazonBasics Adjustable Speaker Stand - 3.8 to...   \n",
       "\n",
       "  main_image_id     image_id  height  width             path  \n",
       "0   61izEZdhlaL  61izEZdhlaL    1197    894  07/075e5d67.jpg  \n",
       "1   61kDp2x8tPL  61kDp2x8tPL    1000   1000  c9/c923418f.jpg  \n",
       "2   91IjyKZ76qL  91IjyKZ76qL    2560   2560  c6/c6889ed4.jpg  \n",
       "3   91IjyKZ76qL  91IjyKZ76qL    2560   2560  c6/c6889ed4.jpg  \n",
       "4   71x4c-BafpL  71x4c-BafpL    2560   2560  2b/2b90e918.jpg  "
      ]
     },
     "execution_count": 265,
     "metadata": {},
     "output_type": "execute_result"
    }
   ],
   "source": [
    "import pandas as pd\n",
    "import string\n",
    "#meta = pd.read_json(\"s3://amazon-berkeley-objects/listings/metadata/listings_0.json.gz\", lines=True)\n",
    "\n",
    "appended_data = []\n",
    "\n",
    "for character in string.digits[0:]+string.ascii_lowercase:\n",
    "    if(character == 'g'):\n",
    "        break\n",
    "    meta = pd.read_json(\"s3://amazon-berkeley-objects/listings/metadata/listings_\"+character+\".json.gz\", lines=True)\n",
    "    appended_data.append(meta)\n",
    "\n",
    "appended_data_frame = pd.concat(appended_data)\n",
    "\n",
    "appended_data_frame.shape\n",
    "meta = appended_data_frame\n",
    "def func_(x):\n",
    "    us_texts = [item[\"value\"] for item in x if item[\"language_tag\"] == \"en_US\"]\n",
    "    return us_texts[0] if us_texts else None\n",
    " \n",
    "meta = meta.assign(item_name_in_en_us=meta.item_name.apply(func_))\n",
    "meta = meta[~meta.item_name_in_en_us.isna()][[\"item_id\", \"item_name_in_en_us\", \"main_image_id\"]]\n",
    "print(f\"#products with US English title: {len(meta)}\")\n",
    "meta.head()\n",
    "\n",
    "image_meta = pd.read_csv(\"s3://amazon-berkeley-objects/images/metadata/images.csv.gz\")\n",
    "dataset = meta.merge(image_meta, left_on=\"main_image_id\", right_on=\"image_id\")\n",
    "dataset.head()"
   ]
  },
  {
   "cell_type": "code",
   "execution_count": 314,
   "id": "3029ff72",
   "metadata": {},
   "outputs": [],
   "source": [
    "a = dataset.loc[dataset['path'] == 'b5/b5319e00.jpg']\n",
    "\n",
    "# options = ['abc', 'def']\n",
    "# dataset[dataset.a.str.startswith(tuple(options))]"
   ]
  },
  {
   "cell_type": "code",
   "execution_count": 316,
   "id": "97ab312b",
   "metadata": {},
   "outputs": [
    {
     "data": {
      "text/plain": [
       "449                            Sliced Mushrooms\n",
       "450    Chipotle Chicken Avocado Sandwich, 16 Oz\n",
       "451                      Corn and Arugula Salad\n",
       "452                               Shredded Kale\n",
       "453                                Beet Noodles\n",
       "                         ...                   \n",
       "600                         Cauliflower Florets\n",
       "601                              Orange Chicken\n",
       "602                        Blue Cheese Dressing\n",
       "603                            Julienne Peppers\n",
       "604                               Pickled Beets\n",
       "Name: item_name_in_en_us, Length: 156, dtype: object"
      ]
     },
     "execution_count": 316,
     "metadata": {},
     "output_type": "execute_result"
    }
   ],
   "source": [
    "a['item_name_in_en_us']"
   ]
  },
  {
   "cell_type": "markdown",
   "id": "d72bcc58",
   "metadata": {},
   "source": [
    "## Step 7: Ingest the prepared data into OpenSearch"
   ]
  },
  {
   "cell_type": "markdown",
   "id": "d5fb015a",
   "metadata": {},
   "source": [
    "We ingest only the captions and the image urls of the images into the opensearch index\n",
    "\n",
    "This step takes approcimately 10 minutes to load the data into opensearch"
   ]
  },
  {
   "cell_type": "code",
   "execution_count": 289,
   "id": "607dfffc",
   "metadata": {},
   "outputs": [
    {
     "name": "stdout",
     "output_type": "stream",
     "text": [
      "|███████████████████████████████████████▉⚠︎ (!) 26221/26296 [100%] in 26:30.1 (16\n",
      "Total Bulk batches completed: 262\n"
     ]
    }
   ],
   "source": [
    "from opensearchpy import OpenSearch, RequestsHttpConnection, AWSV4SignerAuth\n",
    "from time import sleep\n",
    "from tqdm import tqdm\n",
    "from alive_progress import alive_bar\n",
    "port = 443\n",
    "\n",
    "\n",
    "host = 'https://'+OpenSearchDomainEndpoint+'/'\n",
    "service = 'es'\n",
    "credentials = boto3.Session().get_credentials()\n",
    "awsauth = AWS4Auth(credentials.access_key, credentials.secret_key, region, service, session_token=credentials.token)\n",
    "headers = { \"Content-Type\": \"application/json\"}\n",
    "client = OpenSearch(\n",
    "    hosts = [{'host': OpenSearchDomainEndpoint, 'port': 443}],\n",
    "    http_auth = awsauth,\n",
    "    use_ssl = True,\n",
    "    #verify_certs = True,\n",
    "    connection_class = RequestsHttpConnection\n",
    ")\n",
    "\n",
    "cnt = 0\n",
    "batch = 0\n",
    "action = json.dumps({ \"index\": { \"_index\": \"sagemaker-search-index\" } })\n",
    "action_1 = json.dumps({ \"index\": { \"_index\": \"bedrock_text-search-index\" } })\n",
    "body_ = ''\n",
    "body_1 = ''\n",
    "\n",
    "\n",
    "with alive_bar(len(dataset), force_tty = True) as bar:\n",
    "    for index, row in (dataset.iterrows()):\n",
    "        if(row['path'] == '87/874f86c4.jpg' or row['path'] ==  'b5/b5319e00.jpg'):\n",
    "            continue\n",
    "\n",
    "        payload = {}\n",
    "        payload['image_s3_url'] = \"https://amazon-berkeley-objects.s3.amazonaws.com/images/small/\"+row['path']\n",
    "        payload['caption'] = row['item_name_in_en_us']\n",
    "        body_ = body_ + action + \"\\n\" + json.dumps(payload) + \"\\n\"\n",
    "        body_1 = body_1 + action_1 + \"\\n\" + json.dumps(payload) + \"\\n\"\n",
    "        cnt = cnt+1\n",
    "\n",
    "\n",
    "        if(cnt == 100):\n",
    "            \n",
    "            response = client.bulk(\n",
    "                                index = 'sagemaker-search-index',\n",
    "                                 body = body_)\n",
    "            response_1 = client.bulk(\n",
    "                                index = 'bedrock_text-search-index',\n",
    "                                 body = body_1)\n",
    "            #r = requests.post(url, auth=awsauth, json=body_+\"\\n\", headers=headers)\n",
    "            cnt = 0\n",
    "            batch = batch +1\n",
    "            body_ = ''\n",
    "            body_1 = ''\n",
    "        \n",
    "        bar()\n",
    "print(\"Total Bulk batches completed: \"+str(batch))"
   ]
  },
  {
   "cell_type": "code",
   "execution_count": 296,
   "id": "a9ed744c",
   "metadata": {},
   "outputs": [],
   "source": [
    "def resize_image(photo, bucket, width, height):\n",
    "    \n",
    "    Image.MAX_IMAGE_PIXELS = 100000000\n",
    "    \n",
    "    with Image.open(photo) as image:\n",
    "        image.verify()\n",
    "    with Image.open(photo) as image:    \n",
    "        \n",
    "        if image.format in [\"JPEG\", \"PNG\"]:\n",
    "            file_type = image.format.lower()\n",
    "            path = image.filename.rsplit(\".\", 1)[0]\n",
    "\n",
    "            image.thumbnail((width, height))\n",
    "            image.save(f\"{path}-resized.{file_type}\")\n",
    "\n",
    "            #fileshort = os.path.basename(path)\n",
    "            \n",
    "            #print(path)\n",
    "\n",
    "            s3.upload_file(\n",
    "                f\"{path}-resized.{file_type}\",\n",
    "                bucket,\n",
    "                f\"resized/{fileshort}-resized.{file_type}\",\n",
    "                ExtraArgs={\"ContentType\": f\"image/{file_type}\"},\n",
    "            )\n",
    "            \n",
    "        else:\n",
    "            raise Exception(\"Unsupported image format\")\n",
    "        \n",
    "    return file_type, path\n"
   ]
  },
  {
   "cell_type": "code",
   "execution_count": 318,
   "id": "977d98d8",
   "metadata": {},
   "outputs": [],
   "source": [
    "images_ = os.path.join(\"images_\")\n",
    "if not os.path.exists(images_):\n",
    "    os.mkdir(images_)"
   ]
  },
  {
   "cell_type": "code",
   "execution_count": 301,
   "id": "bbcac7b7",
   "metadata": {
    "scrolled": true
   },
   "outputs": [
    {
     "name": "stdout",
     "output_type": "stream",
     "text": [
      "|████████████████████████████████████████| 26296/26296 [100%] in 9:27.2 (46.37/s\n",
      "Total Bulk batches completed: 262\n"
     ]
    }
   ],
   "source": [
    "\n",
    "host = 'https://'+OpenSearchDomainEndpoint+'/'\n",
    "service = 'es'\n",
    "credentials = boto3.Session().get_credentials()\n",
    "awsauth = AWS4Auth(credentials.access_key, credentials.secret_key, region, service, session_token=credentials.token)\n",
    "headers = { \"Content-Type\": \"application/json\"}\n",
    "client = OpenSearch(\n",
    "    hosts = [{'host': OpenSearchDomainEndpoint, 'port': 443}],\n",
    "    http_auth = awsauth,\n",
    "    use_ssl = True,\n",
    "    #verify_certs = True,\n",
    "    connection_class = RequestsHttpConnection\n",
    ")\n",
    "\n",
    "path = \"bedrock-multimodal-search-index/_doc\" \n",
    "url = host + path\n",
    "width = 2048\n",
    "height = 2048\n",
    "cnt = 0\n",
    "count = 0\n",
    "batch = 0\n",
    "action = json.dumps({ \"index\": { \"_index\": \"bedrock-multimodal-search-index\" } })\n",
    "body_ = ''\n",
    "\n",
    "with alive_bar(len(dataset), force_tty = True) as bar:\n",
    "    for index, row in dataset.iterrows():\n",
    "        if(row['path'] == '87/874f86c4.jpg' or row['path'] ==  'b5/b5319e000000000.jpg'):\n",
    "            continue\n",
    "        count = count+1\n",
    "\n",
    "\n",
    "        \n",
    "        fileshort = \"images_/\"+row['path'].replace(\"/\",\"_\")\n",
    "\n",
    "        s3.download_file('amazon-berkeley-objects', 'images/small/'+row['path'], fileshort)\n",
    "\n",
    "\n",
    "\n",
    "        payload = {}\n",
    "        payload['image_description'] = row['item_name_in_en_us']\n",
    "        payload['image_s3_url'] = \"https://amazon-berkeley-objects.s3.amazonaws.com/images/small/\"+row['path']\n",
    "\n",
    "        file_type, path = resize_image(fileshort, s3_bucket, width, height)\n",
    "\n",
    "        with open(fileshort.split(\".\")[0]+\"-resized.\"+file_type, \"rb\") as image_file:\n",
    "            input_image = base64.b64encode(image_file.read()).decode(\"utf8\")\n",
    "\n",
    "\n",
    "        payload['image_binary'] = input_image\n",
    "        body_ = body_ + action+ \"\\n\"+json.dumps(payload) + \"\\n\"\n",
    "        #print(payload)\n",
    "        #r = requests.post(url, auth=awsauth, json=payload, headers=headers)\n",
    "        cnt = cnt+1\n",
    "\n",
    "        if(cnt == 100):\n",
    "            #r = requests.post(url, auth=awsauth, json=body_+\"\\\\\\\\n\", headers=headers)\n",
    "\n",
    "\n",
    "            response = client.bulk(\n",
    "                                 index = 'bedrock-multimodal-search-index',\n",
    "                                  body = body_)\n",
    "\n",
    "            cnt = 0\n",
    "            batch = batch +1\n",
    "            body_ = ''\n",
    "            #print(batch)\n",
    "            \n",
    "        bar()\n",
    "\n",
    "print(\"Total Bulk batches completed: \"+str(batch))\n"
   ]
  },
  {
   "cell_type": "markdown",
   "id": "8520d9a1",
   "metadata": {},
   "source": [
    "### The following 2 steps are optional because in the final web application, these steps are performed by the Lambda function itself that is already deployed by the cloud formation template.\n",
    "## Create the Search pipeline in OpenSearch"
   ]
  },
  {
   "cell_type": "markdown",
   "id": "f85ff601",
   "metadata": {},
   "source": [
    "Create a search pipeline in OpenSearch to normalize the search results from the text and vector search queries. The search pipeline combines the results from each subquery."
   ]
  },
  {
   "cell_type": "code",
   "execution_count": null,
   "id": "32799da6",
   "metadata": {},
   "outputs": [],
   "source": [
    "path = \"_search/pipeline/nlp-search-pipeline\" \n",
    "url = host + path\n",
    "\n",
    "payload = {\n",
    "  \"description\": \"Post processor for hybrid search\",\n",
    "  \"phase_results_processors\": [\n",
    "    {\n",
    "      \"normalization-processor\": {\n",
    "        \"normalization\": {\n",
    "          \"technique\": \"min_max\"\n",
    "        },\n",
    "        \"combination\": {\n",
    "          \"technique\": \"arithmetic_mean\",\n",
    "          \"parameters\": {\n",
    "            \"weights\": [\n",
    "              0.3,\n",
    "              0.7\n",
    "            ]\n",
    "          }\n",
    "        }\n",
    "      }\n",
    "    }\n",
    "  ]\n",
    "}\n",
    "\n",
    "\n",
    "r = requests.put(url, auth=awsauth, json=payload, headers=headers)\n",
    "print(r.status_code)\n",
    "print(r.text)"
   ]
  },
  {
   "cell_type": "markdown",
   "id": "d04fc3f2",
   "metadata": {},
   "source": [
    "## Search with Hybrid Query"
   ]
  },
  {
   "cell_type": "markdown",
   "id": "a8af4dfd",
   "metadata": {},
   "source": [
    "This is an example of Hybrid query that you will run uing the web application later."
   ]
  },
  {
   "cell_type": "code",
   "execution_count": null,
   "id": "418d2629",
   "metadata": {},
   "outputs": [],
   "source": [
    "path = \"nlp-image-search-index/_search?search_pipeline=nlp-search-pipeline\" \n",
    "url = host + path\n",
    "query_ = \"wine glass\"\n",
    "\n",
    "payload = {\n",
    "  \"_source\": {\n",
    "    \"exclude\": [\n",
    "      \"caption_embedding\"\n",
    "    ]\n",
    "  },\n",
    "  \"query\": {\n",
    "    \"hybrid\": {\n",
    "      \"queries\": [\n",
    "        {\n",
    "          \"match\": {\n",
    "            \"caption\": {\n",
    "              \"query\": query_\n",
    "            }\n",
    "          }\n",
    "        },\n",
    "        {\n",
    "          \"neural\": {\n",
    "            \"caption_embedding\": {\n",
    "              \"query_text\": query_,\n",
    "              \"model_id\": model_id,\n",
    "              \"k\": 2\n",
    "            }\n",
    "          }\n",
    "        }\n",
    "      ]\n",
    "    }\n",
    "  },\"size\":1\n",
    "}\n",
    "\n",
    "r = requests.get(url, auth=awsauth, json=payload, headers=headers)\n",
    "print(r.status_code)\n",
    "print(r.text)"
   ]
  },
  {
   "cell_type": "code",
   "execution_count": 114,
   "id": "ed1dc9cd",
   "metadata": {},
   "outputs": [
    {
     "name": "stdout",
     "output_type": "stream",
     "text": [
      "200\n",
      "{\"took\":196,\"timed_out\":false,\"_shards\":{\"total\":5,\"successful\":5,\"skipped\":0,\"failed\":0},\"hits\":{\"total\":{\"value\":25,\"relation\":\"eq\"},\"max_score\":0.59631926,\"hits\":[{\"_index\":\"multimodal-image-search-index\",\"_id\":\"D0pNQIwBuQkLO8mDdf7F\",\"_score\":0.59631926,\"_source\":{\"image_description\":\"Urban Living Coffee Tables\",\"vector_embedding\":[0.013061523,-0.0072021484,-0.0016708374,-4.6348572E-4,0.022460938,-0.0055236816,0.12207031,0.010375977,0.030151367,0.040527344,-0.012023926,-0.005859375,-0.009094238,-0.052734375,0.03930664,0.044189453,-0.020751953,-0.0018539429,-0.0078125,-0.03173828,0.018066406,0.08105469,-0.0065612793,0.017700195,0.05859375,-0.056396484,-0.008483887,0.008911133,-0.00390625,-0.0023040771,0.05126953,-0.032714844,0.041015625,0.025512695,-1.9931793E-4,0.003036499,0.055419922,-0.030761719,-0.015014648,0.027832031,0.012939453,-0.034179688,-0.028808594,0.00491333,-0.0095825195,0.024536133,0.021484375,-0.0021820068,0.020996094,0.06591797,0.030639648,-0.020019531,0.017700195,0.013122559,0.041015625,0.056152344,0.0138549805,-0.018798828,-0.01586914,0.019897461,-0.01977539,-0.041015625,0.012451172,-0.07080078,0.010925293,0.03149414,0.041503906,-0.022949219,-0.015563965,-0.03955078,-0.04638672,-0.010437012,0.0022735596,-0.03881836,-0.017089844,-0.03564453,-0.042236328,0.022705078,-0.014526367,-0.06933594,-0.029052734,-0.0011978149,0.03540039,0.048828125,-0.03112793,-0.056396484,0.015197754,1.6975403E-4,-0.043701172,-0.029174805,-0.02319336,-0.013000488,0.040771484,-0.018066406,-0.0019378662,-0.0052490234,-0.04296875,-0.03540039,-0.03125,0.02746582,-0.020874023,0.008483887,-0.04711914,0.0046081543,0.026855469,-0.04248047,-0.007446289,0.010986328,-0.03112793,-0.029296875,0.034179688,-0.038085938,0.010131836,-0.0037384033,-0.00970459,0.001045227,-0.07470703,0.07324219,-0.048339844,-0.057373047,0.040771484,-0.009521484,0.001876831,2.784729E-4,3.2806396E-4,0.01574707,-0.012756348,0.030273438,-0.05078125,-0.0154418945,0.011108398,0.020019531,-0.022216797,0.040527344,0.008239746,-0.036865234,-0.041503906,0.016845703,-0.0048217773,0.0037231445,0.009216309,0.00970459,-7.4386597E-4,-0.049560547,0.049072266,0.040771484,0.0703125,-0.015075684,-0.024291992,-0.037597656,0.07763672,0.0040893555,0.055908203,0.001953125,-0.016845703,-0.00970459,-0.020385742,0.02722168,0.013061523,0.04638672,-0.016967773,0.02734375,0.019165039,0.009643555,-0.02709961,0.020874023,0.0010299683,0.020141602,0.01965332,0.016601562,-0.026123047,-0.04663086,0.032470703,-0.057128906,-0.024047852,0.033935547,0.057373047,0.0234375,-0.026245117,-0.015380859,-0.020996094,0.0026397705,0.009216309,-0.0063476562,-0.0037841797,-0.060791016,0.0024261475,-0.049560547,-0.021728516,0.017333984,0.044677734,-0.016967773,-0.036376953,0.053222656,0.02758789,0.045166016,-0.045654297,0.006652832,-0.037353516,-0.029418945,0.072753906,0.0043945312,-0.019042969,-0.022216797,-0.024536133,0.0036773682,-0.03515625,-0.028320312,0.008178711,-0.075683594,-0.035888672,-0.029663086,-0.0049743652,-0.043945312,-0.07324219,-0.046142578,0.01940918,0.0016326904,0.009216309,0.040283203,0.029418945,-0.03491211,-0.018310547,-0.0134887695,0.0015258789,0.0071105957,0.006134033,0.014587402,-0.01550293,-0.03930664,0.028320312,-0.034423828,0.05053711,0.007080078,0.049560547,0.03564453,0.039794922,-0.011230469,0.05419922,0.025024414,-0.029907227,-0.015075684,0.010620117,0.018920898,0.043701172,0.026611328,0.019165039,-0.05810547,0.038330078,-0.020385742,-0.038330078,0.03466797,-0.009765625,0.013793945,0.004852295,-0.0014648438,0.020385742,0.008422852,-0.023071289,-0.045166016,-0.011108398,0.01171875,0.003753662,-0.005065918,-0.04663086,0.017456055,-0.028808594,-0.033935547,0.028564453,-0.044189453,0.028442383,0.025634766,-0.060058594,0.021728516,0.038085938,-0.00982666,-0.030395508,-0.05859375,-0.06933594,0.020263672,0.009094238,-0.035888672,0.008605957,-0.016479492,0.017456055,-0.0013656616,-0.032714844,0.052978516,0.01373291,0.049072266,-0.028686523,-0.09765625,-0.010437012,-0.04345703,-0.024414062,-0.049316406,0.03930664,-0.061035156,0.014099121,-0.0126953125,-0.037841797,0.022460938,-0.032226562,0.027954102,-0.020263672,0.02734375,0.0015945435,-0.03930664,-0.0011367798,0.02734375,0.048583984,-0.045654297,2.0313263E-4,-0.04248047,-0.053710938,-0.008361816,0.052001953,-0.0119018555,0.008544922,-0.048339844,0.0138549805,-6.637573E-4,0.025634766,-0.029174805,0.01586914,0.008850098,0.023071289,-0.010864258,-0.014892578,-0.0072631836,-0.01977539,0.0038452148,-0.024047852,0.025024414,0.018066406,0.0859375,-0.0036010742,-0.03149414,0.011779785,0.039794922,0.028686523,0.005645752,-0.0079956055,0.052001953,0.06298828,-0.006134033,-0.0546875,-3.8719177E-4,0.041748047,-0.035888672,-0.014160156,0.0138549805,0.009033203,-0.041503906,0.030273438,-0.010620117,0.04345703,-0.05493164,-0.021484375,0.01953125,0.029174805,0.02722168,0.045654297,0.01184082,0.0625,-0.024902344,0.003250122,0.03564453,0.015563965,-0.011047363,0.05029297,-0.005859375,-0.021606445,0.015625,0.026245117,-0.04638672,-0.0061035156,0.044677734,0.041503906,-0.060058594,0.03857422,0.045410156,0.020385742,-0.013183594,-0.048095703,0.025268555,0.01977539,0.029907227,0.011047363,0.060791016,-0.03125,-0.04345703,-0.096191406,-0.01586914,0.016479492,0.04248047,0.022338867,-2.9563904E-4,0.028930664,-0.018554688,0.009460449,0.035888672,-0.019042969,0.045166016,0.0095825195,-0.024780273,-0.0030212402,0.030517578,0.013122559,0.05908203,0.011474609,0.08691406,0.01953125,0.030883789,-0.03173828,0.024536133,0.017822266,0.002319336,0.034423828,0.00340271,-0.019042969,-7.5149536E-4,-0.04272461,-0.012207031,-0.01361084,-0.02746582,-0.032714844,-0.056884766,0.032714844,0.0087890625,-0.032226562,-0.0066223145,-0.030273438,0.05517578,-0.024780273,-0.024780273,-0.009521484,-0.027954102,-0.006439209,-0.049804688,0.028808594,-0.026000977,-0.018310547,2.937317E-4,-0.037841797,-0.021850586,-0.01586914,-0.025268555,0.001625061,-0.03930664,-0.024780273,0.0048217773,0.010925293,-0.011352539,0.07128906,-5.0354004E-4,0.0126953125,0.017944336,-0.010192871,-0.0063476562,0.0035247803,-0.03881836,-0.018554688,-0.010925293,0.040283203,-0.052978516,-0.025512695,0.015197754,0.026123047,-0.05810547,-0.010375977,-0.016967773,-0.008422852,-0.016479492,0.023803711,0.026123047,-0.017944336,0.052490234,-0.04711914,0.024291992,-0.028198242,0.0019226074,-0.0078125,0.02722168,0.015258789,-0.028076172,3.0899048E-4,0.013122559,0.0013809204,0.035888672,-0.008666992,-0.014526367,0.013549805,-0.005432129,0.045654297,0.003967285,0.05102539,-0.063964844,0.0014419556,-0.026855469,-0.04736328,-0.037353516,-0.02319336,0.004119873,-0.019042969,-0.05810547,-0.020263672,0.005218506,-0.016845703,0.008972168,-0.03540039,0.01184082,0.016235352,-0.0011444092,0.0063171387,0.04248047,0.018920898,0.052001953,0.037841797,-0.0031585693,-0.013366699,-0.016479492,-0.01977539,-0.006286621,-0.030761719,-0.01574707,-0.0069885254,0.0033569336,0.0022888184,-0.034179688,-0.028564453,-0.045898438,0.040039062,0.0015869141,0.005584717,-0.049560547,0.055908203,-0.03491211,0.017211914,-0.0019226074,-0.011413574,0.014465332,0.007873535,0.0016937256,-0.002532959,-0.018310547,-0.0038604736,0.04248047,-0.017333984,0.025878906,-0.061767578,-0.024169922,0.006286621,-0.064941406,0.0040893555,-0.016601562,-0.03881836,0.06689453,0.0019454956,0.012023926,0.05517578,-0.017456055,0.060791016,-0.030151367,-0.026977539,0.040771484,0.021728516,-0.03930664,0.02355957,0.032958984,0.033935547,-0.035888672,-0.016479492,0.017333984,-0.030029297,-0.028564453,8.621216E-4,-0.007659912,-0.019042969,-0.044677734,0.03491211,-0.008544922,-0.015319824,0.0037231445,0.05834961,-0.030517578,-0.009338379,0.005279541,0.021972656,0.040771484,-0.020996094,0.0056762695,-0.032226562,-0.025634766,0.016113281,2.632141E-4,0.002822876,0.026489258,0.009094238,0.02734375,0.0138549805,0.016601562,0.035888672,-1.9741058E-4,0.011230469,0.029785156,0.011657715,0.014465332,0.07373047,-0.051757812,-0.010620117,1.3256073E-4,0.022338867,-0.018188477,0.037597656,-0.032958984,0.0074768066,0.002090454,-0.038330078,-0.055908203,-0.048339844,-0.01977539,-0.034423828,5.722046E-4,0.0021362305,-0.002670288,0.036865234,-0.035888672,-0.022460938,0.00592041,0.015991211,0.0069885254,-0.014526367,0.028198242,0.01940918,0.016113281,-0.035888672,0.024047852,-0.020263672,0.021240234,0.021850586,0.012817383,-0.05834961,0.043701172,-0.026733398,-0.05102539,0.017822266,-0.03491211,0.028686523,0.053222656,0.01361084,0.033447266,-0.0390625,-0.008483887,0.010925293,0.04638672,-0.040039062,0.028198242,0.013793945,-0.032714844,-0.057128906,0.0073547363,-0.028808594,-0.0036773682,0.020385742,-0.053466797,0.036865234,-0.0053710938,0.008728027,-0.019897461,0.029296875,-0.0012588501,0.003967285,-0.037109375,0.012817383,-0.019897461,0.03857422,0.014343262,0.020019531,-0.047851562,0.051757812,0.0390625,0.014282227,-0.0022888184,0.032226562,0.003967285,0.0029144287,0.019042969,0.05029297,0.018310547,0.04296875,-0.0390625,0.010498047,-0.056152344,0.013122559,6.914139E-5,-0.03540039,-0.036376953,0.01928711,-0.060791016,0.022094727,-0.042236328,0.040527344,0.012145996,0.002380371,-0.035888672,-0.05883789,-0.019897461,-0.0061035156,0.061035156,-0.041503906,0.055664062,0.0068969727,0.019897461,-0.0134887695,0.018432617,0.012268066,0.013305664,0.013427734,0.0056152344,0.060791016,0.018432617,-0.040527344,0.04296875,0.014587402,-0.0115356445,-0.057373047,0.07519531,0.033203125,-0.044433594,0.018798828,-0.0054016113,0.033691406,0.03930664,0.011047363,-0.017700195,0.0045166016,0.08154297,0.030273438,0.0064697266,-0.011291504,-0.025390625,0.015625,0.022460938,0.005340576,-0.009765625,-0.029663086,0.040039062,-0.011352539,0.0028076172,-0.016723633,0.04345703,0.055908203,-0.0051574707,0.07324219,0.03881836,0.022583008,-0.0032653809,0.012451172,-0.011352539,0.078125,0.044433594,0.050048828,-0.014404297,-0.043701172,-0.06542969,-0.0234375,-0.009399414,0.0020599365,-0.01965332,0.024414062,-0.009399414,-0.0019226074,0.03857422,-0.036376953,0.00680542,0.0043640137,-0.025390625,0.007537842,0.015380859,-0.01953125,0.015563965,-0.012451172,0.022583008,-0.008605957,0.045898438,-0.041748047,0.02734375,0.015319824,0.0072631836,-0.021728516,-1.487732E-4,-0.036132812,-0.019042969,-0.012207031,0.0021362305,0.0036468506,-0.030395508,-0.03564453,-0.0038757324,-0.041992188,0.010437012,-0.027832031,-0.004272461,0.03466797,-0.024902344,0.0019683838,-0.017456055,0.030151367,0.04321289,-0.03149414,-0.045654297,0.017944336,-0.030761719,0.012084961,0.007171631,-0.05883789,0.032958984,-0.010681152,0.0031280518,0.010314941,-0.046875,0.005279541,-0.026977539,0.003189087,-0.012512207,-0.03955078,-0.030883789,-0.0073547363,0.059570312,0.045654297,-0.05102539,0.033935547,-0.026733398,0.067871094,0.010559082,0.03149414,-0.0011291504,-0.01940918,-0.019165039,-0.025512695,0.059326172,3.2806396E-4,0.052978516,-0.013427734,-0.020141602,-0.032958984,0.017700195,0.068359375,0.029418945,-0.022705078,-0.044433594,0.006500244,-0.043945312,0.022094727,0.021728516,0.030883789,-1.5354156E-4,0.033447266,0.013427734,0.0036773682,0.0234375,0.046875,-0.004119873,0.05883789,0.016479492,-0.06689453,-2.9182434E-4,0.020751953,0.01928711,-0.037353516,-0.033447266,-0.03857422,-0.026000977,0.0076904297,0.0018920898,-0.020751953,-0.008361816,0.015319824,-0.021362305,-0.018432617,-0.045898438,0.034423828,-0.011352539,-0.072265625,-0.04711914,0.0015335083,0.025634766,-0.01159668,-0.0075683594,-0.055908203,0.012939453,-0.02709961,-0.034179688,0.028076172,-0.017333984,-0.0390625,-0.0046691895,0.009887695,-0.060546875,0.020385742,-0.018310547,8.506775E-4,0.010559082,0.029052734,0.0071105957,-0.013305664,-0.032714844,-0.028198242,0.018554688,-0.018554688,0.006866455,-0.022338867,0.0011901855,-0.008911133,-0.03857422,0.0021362305,-0.025756836,-0.016601562,0.030883789,-0.026733398,0.026367188,0.032226562,3.0708313E-4,-0.046875,-0.027709961,0.046142578,0.006378174,0.01574707,0.014526367,-0.0028686523,-0.038330078,0.007751465,-0.024169922,0.009765625,-0.032714844,0.018066406,-0.029052734,-0.008972168,0.037597656,-0.002319336,0.008361816,0.026000977,-0.011230469,-0.031982422,-9.727478E-4,-0.004425049,0.034423828,0.016723633,0.033691406,-0.014282227,0.055419922,-0.0017852783,0.016601562,0.056396484,-0.018066406,-0.07470703,0.06591797,0.020385742,-0.044677734,0.041259766,-0.018554688,0.05102539,0.022583008,-0.01953125,0.0056762695,-0.00289917,0.013000488,0.05029297,-0.017089844,-0.044677734,-0.03112793,-0.022338867,0.008117676,-0.017089844,-1.3923645E-4,0.0016479492,0.016113281,-0.007873535,-0.024780273,0.0027160645,-0.033203125,0.010559082,-0.010314941,-0.00340271,0.005493164,-0.012390137,-0.020874023,0.0058898926,0.010253906,-0.008483887,-0.01550293,0.014282227,-0.012207031,-0.03955078,-0.04711914,-0.033203125,0.012817383,0.023071289,0.011108398,-0.012329102,0.033691406,-0.027832031,-0.0012359619,0.010986328,0.036621094,0.038085938,0.027709961,-0.037353516,-0.05102539,-0.013244629,0.046875,0.026000977,-0.016113281,0.0055236816,0.03149414,0.013305664,0.009399414,-0.018676758,0.030151367,-0.059814453,0.0010147095,0.035888672,0.007537842],\"image_s3_url\":\"https://amazon-berkeley-objects.s3.amazonaws.com/images/small/07/0753ed75.jpg\"}}]}}\n"
     ]
    }
   ],
   "source": [
    "path = \"multimodal-image-search-index/_search\"\n",
    "url = host + path\n",
    "query_ = \"decorative materials for living room\"\n",
    "\n",
    "payload = {\n",
    "  \"size\": 1,\n",
    "     \"_source\": {\n",
    "    \"exclude\": [\n",
    "      \"image_binary\"\n",
    "    ]\n",
    "  },\n",
    "  \"query\": {\n",
    "    \"neural\": {\n",
    "      \"vector_embedding\": {\n",
    "        \"query_text\": query_,\n",
    "        #\"query_image\": \"iVBORw0KGgoAAAANSUI...\",\n",
    "        \"model_id\": model_id,\n",
    "        \"k\": 5\n",
    "      }\n",
    "    }\n",
    "  }\n",
    "}\n",
    "\n",
    "r = requests.get(url, auth=awsauth, json=payload, headers=headers)\n",
    "print(r.status_code)\n",
    "print(r.text)"
   ]
  },
  {
   "cell_type": "markdown",
   "id": "f0f39448",
   "metadata": {},
   "source": [
    "## Step 8: Update the environment variables of lambda\n",
    "\n",
    "Here, we pass the OpenSearch endpoint, AWS region and OpenSearch model identifier to Lambda."
   ]
  },
  {
   "cell_type": "code",
   "execution_count": 150,
   "id": "9c557766",
   "metadata": {},
   "outputs": [],
   "source": [
    "lambda_client = boto3.client('lambda')\n",
    "\n",
    "response = lambda_client.update_function_configuration(\n",
    "            FunctionName=lambdaFunction,\n",
    "            Environment={\n",
    "                'Variables': {\n",
    "                    'DOMAIN_ENDPOINT': OpenSearchDomainEndpoint,\n",
    "                    'REGION':region,\n",
    "                    'SAGEMAKER_MODEL_ID':sagemaker_model_id,\n",
    "                    'BEDROCK_TEXT_MODEL_ID':bedrock_text_model_id,\n",
    "                    'BEDROCK_MULTIMODAL_MODEL_ID':bedrock_multimodal_model_id,\n",
    "                }\n",
    "            }\n",
    "        )"
   ]
  },
  {
   "cell_type": "markdown",
   "id": "18947159",
   "metadata": {},
   "source": [
    "## Step 9: Create the Lambda URL\n",
    "\n",
    "Here we create external Lambda URL for lambda function to be called from the outside world."
   ]
  },
  {
   "cell_type": "code",
   "execution_count": 151,
   "id": "0a97269a",
   "metadata": {},
   "outputs": [],
   "source": [
    "lambda_ = boto3.client('lambda')\n",
    "\n",
    "\n",
    "response_ = lambda_.add_permission(\n",
    "FunctionName=lambdaFunction,\n",
    "StatementId=lambdaFunction+'_permissions',\n",
    "Action=\"lambda:InvokeFunctionUrl\",\n",
    "Principal=account_id,\n",
    "FunctionUrlAuthType='AWS_IAM')\n",
    "\n",
    "\n",
    "response = lambda_.create_function_url_config(\n",
    "FunctionName=lambdaFunction,\n",
    "AuthType='AWS_IAM',\n",
    "Cors={\n",
    "    'AllowCredentials': True,\n",
    "\n",
    "    'AllowMethods':[\"*\"],\n",
    "    'AllowOrigins': [\"*\"]\n",
    "\n",
    "},\n",
    "InvokeMode='RESPONSE_STREAM'\n",
    ")\n",
    "\n",
    "query_invoke_URL = response['FunctionUrl']"
   ]
  },
  {
   "cell_type": "markdown",
   "id": "b1154fad",
   "metadata": {},
   "source": [
    "## Step 10: Host the Hybrid Search application in EC2"
   ]
  },
  {
   "cell_type": "markdown",
   "id": "5b857dea",
   "metadata": {},
   "source": [
    "## Notice\n",
    "\n",
    "To ensure security access to the provisioned resources, we use EC2 security group to limit access scope. Before you go into the final step, you need to add your current **PUBLIC IP** address to the ec2 security group so that you are able to access the web application (chat interface) that you are going to host in the next step.\n",
    "\n",
    "<h3 style=\"color:red;\"><U>Warning</U></h3>\n",
    "<h4>Without doing the below steps, you will not be able to proceed further.</h4>\n",
    "\n",
    "<div>\n",
    "    <h3 style=\"color:red;\"><U>Enter your IP address </U></h3>\n",
    "    <h4> STEP 1. Get your IP address <span style=\"display:inline;color:blue\"><a href = \"https://ipinfo.io/ip \">HERE</a></span>. If you are connecting with VPN, we recommend you disconnect VPN first.</h4>\n",
    "</div>\n",
    "\n",
    "<h4>STEP 2. Run the below cell </h4>\n",
    "<h4>STEP 3. Paste the IP address in the input box that prompts you to enter your IP</h4>\n",
    "<h4>STEP 4. Press ENTER</h4>"
   ]
  },
  {
   "cell_type": "code",
   "execution_count": 152,
   "id": "4ddb056a",
   "metadata": {},
   "outputs": [
    {
     "name": "stdout",
     "output_type": "stream",
     "text": [
      "Enter your IP : 54.239.6.190\n",
      "\n",
      "Ingress rules added for the security group, ports:protocol - {\"443\": \"HTTPS\", \"80\": \"HTTP\", \"8501\": \"streamlit\"} with my ip - 54.239.6.0/24\n"
     ]
    }
   ],
   "source": [
    "my_ip = (input(\"Enter your IP : \")).split(\".\")\n",
    "my_ip.pop()\n",
    "IP = \".\".join(my_ip)+\".0/24\"\n",
    "\n",
    "port_protocol = {443:'HTTPS',80:'HTTP',8501:'streamlit'}\n",
    "\n",
    "IpPermissions = []\n",
    "\n",
    "for port in port_protocol.keys():\n",
    "     IpPermissions.append({\n",
    "            'FromPort': port,\n",
    "            'IpProtocol': 'tcp',\n",
    "            'IpRanges': [\n",
    "                {\n",
    "                    'CidrIp': IP,\n",
    "                    'Description': port_protocol[port]+' access',\n",
    "                },\n",
    "            ],\n",
    "            'ToPort': port,\n",
    "        })\n",
    "\n",
    "IpPermissions\n",
    "\n",
    "for output in cfn_outputs:\n",
    "    if('securitygroupid' in output['OutputKey'].lower()):\n",
    "        sg_id = output['OutputValue']\n",
    "        \n",
    "#sg_id = 'sg-0e0d72baa90696638'\n",
    "\n",
    "ec2_ = boto3.client('ec2')        \n",
    "\n",
    "response = ec2_.authorize_security_group_ingress(\n",
    "    GroupId=sg_id,\n",
    "    IpPermissions=IpPermissions,\n",
    ")\n",
    "\n",
    "print(\"\\nIngress rules added for the security group, ports:protocol - \"+json.dumps(port_protocol)+\" with my ip - \"+IP)"
   ]
  },
  {
   "cell_type": "markdown",
   "id": "047e4328",
   "metadata": {},
   "source": [
    "Finally, We are ready to host our conversational search application, here we perform the following steps, Steps 2-5 are achieved by executing the terminal commands in the ec2 instance using a SSM client.\n",
    "1. Update the web application code files with lambda url (in [api.py](https://github.com/aws-samples/semantic-search-with-amazon-opensearch/blob/main/generative-ai/Module_1_Build_Conversational_Search/webapp/api.py)) and s3 bucket name (in [app.py](https://github.com/aws-samples/semantic-search-with-amazon-opensearch/blob/main/generative-ai/Module_1_Build_Conversational_Search/webapp/app.py))\n",
    "2. Archieve the application files and push to the configured s3 bucket.\n",
    "3. Download the application (.zip) from s3 bucket into ec2 instance (/home/ec2-user/), and uncompress it.\n",
    "4. We install the streamlit and boto3 dependencies inside a virtual environment inside the ec2 instance.\n",
    "5. Start the streamlit application."
   ]
  },
  {
   "cell_type": "code",
   "execution_count": 303,
   "id": "cc79d845",
   "metadata": {},
   "outputs": [
    {
     "data": {
      "text/plain": [
       "'i-05bbd71645c0b0990'"
      ]
     },
     "execution_count": 303,
     "metadata": {},
     "output_type": "execute_result"
    }
   ],
   "source": [
    "#modify the code files with lambda url and s3 bucket names\n",
    "query_invoke_URL_cmd = query_invoke_URL.replace(\"/\",\"\\/\")\n",
    "\n",
    "with io.capture_output() as captured:\n",
    "    #Update the webapp files to include the s3 bucket name and the LambdaURL\n",
    "    !sed -i 's/API_URL_TO_BE_REPLACED/{query_invoke_URL_cmd}/g' webapp/api.py\n",
    "    #Push the WebAPP code artefacts to s3\n",
    "    !cd webapp && zip -r webapp.zip *\n",
    "    !aws s3 cp webapp/webapp.zip s3://$s3_bucket\n",
    "        \n",
    "#Get the Ec2 instance ID which is already deployed\n",
    "response = cfn.describe_stack_resources(\n",
    "    StackName=stackname\n",
    ")\n",
    "for resource in response['StackResources']:\n",
    "    if(resource['ResourceType'] == 'AWS::EC2::Instance'):\n",
    "        ec2_instance_id = resource['PhysicalResourceId']\n",
    "   \n",
    "ec2_instance_id"
   ]
  },
  {
   "cell_type": "markdown",
   "id": "22b1351e",
   "metadata": {},
   "source": [
    "Copy the URL that will be generated after running the next cell and open the URL in your web browser to start using the application."
   ]
  },
  {
   "cell_type": "code",
   "execution_count": 317,
   "id": "70e2339b",
   "metadata": {},
   "outputs": [
    {
     "name": "stdout",
     "output_type": "stream",
     "text": [
      "Please wait while the application is being hosted . . .\n",
      "\n",
      "Application hosted successfully\n",
      "\n",
      "Click the below URL to open the application. It may take up to a minute or two to start the application, Please keep refreshing the page if you are seeing connection error.\n",
      "\n",
      "http://44.204.151.62:8501\n"
     ]
    }
   ],
   "source": [
    "# function to execute commands in ec2 terminal\n",
    "def execute_commands_on_linux_instances(client, commands):\n",
    "    resp = client.send_command(\n",
    "        DocumentName=\"AWS-RunShellScript\", # One of AWS' preconfigured documents\n",
    "        Parameters={'commands': commands},\n",
    "        InstanceIds=[ec2_instance_id],\n",
    "    )\n",
    "    return resp['Command']['CommandId']\n",
    "\n",
    "ssm_client = boto3.client('ssm') \n",
    "\n",
    "commands = [\n",
    "            'aws s3 cp s3://'+s3_bucket+'/webapp.zip /home/ec2-user/',\n",
    "            'unzip -o /home/ec2-user/webapp.zip -d /home/ec2-user/'  ,  \n",
    "            'sudo chmod -R 0777 /home/ec2-user/',\n",
    "            'python3 -m venv /home/ec2-user/.myenv',\n",
    "            'source /home/ec2-user/.myenv/bin/activate',\n",
    "            'pip install streamlit',\n",
    "            'pip install boto3',\n",
    "    \n",
    "            #start the web applicaiton\n",
    "            'streamlit run /home/ec2-user/app.py',\n",
    "            ]\n",
    "\n",
    "command_id = execute_commands_on_linux_instances(ssm_client, commands)\n",
    "\n",
    "ec2_ = boto3.client('ec2')\n",
    "response = ec2_.describe_instances(\n",
    "    InstanceIds=[ec2_instance_id]\n",
    ")\n",
    "public_ip = response['Reservations'][0]['Instances'][0]['PublicIpAddress']\n",
    "print(\"Please wait while the application is being hosted . . .\")\n",
    "time.sleep(10)\n",
    "print(\"\\nApplication hosted successfully\")\n",
    "print(\"\\nClick the below URL to open the application. It may take up to a minute or two to start the application, Please keep refreshing the page if you are seeing connection error.\\n\")\n",
    "print('http://'+public_ip+\":8501\")\n",
    "#print(\"\\nCheck the below video on how to interact with the application\")"
   ]
  },
  {
   "cell_type": "code",
   "execution_count": null,
   "id": "765bf2ea",
   "metadata": {},
   "outputs": [],
   "source": []
  }
 ],
 "metadata": {
  "kernelspec": {
   "display_name": "conda_pytorch_p310",
   "language": "python",
   "name": "conda_pytorch_p310"
  },
  "language_info": {
   "codemirror_mode": {
    "name": "ipython",
    "version": 3
   },
   "file_extension": ".py",
   "mimetype": "text/x-python",
   "name": "python",
   "nbconvert_exporter": "python",
   "pygments_lexer": "ipython3",
   "version": "3.10.13"
  }
 },
 "nbformat": 4,
 "nbformat_minor": 5
}
